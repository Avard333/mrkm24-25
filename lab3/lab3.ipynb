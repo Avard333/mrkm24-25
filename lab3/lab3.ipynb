{
  "nbformat": 4,
  "nbformat_minor": 0,
  "metadata": {
    "colab": {
      "provenance": []
    },
    "kernelspec": {
      "name": "python3",
      "display_name": "Python 3"
    },
    "language_info": {
      "name": "python"
    }
  },
  "cells": [
    {
      "cell_type": "code",
      "source": [
        "!pip install PyCryptoDomex elgamal pycryptodome"
      ],
      "metadata": {
        "colab": {
          "base_uri": "https://localhost:8080/"
        },
        "id": "PLwMPJBJfyHD",
        "outputId": "ef6e74c1-3f9c-4ece-9936-42c05e7772ec"
      },
      "execution_count": null,
      "outputs": [
        {
          "output_type": "stream",
          "name": "stdout",
          "text": [
            "Collecting PyCryptoDomex\n",
            "  Downloading pycryptodomex-3.21.0-cp36-abi3-manylinux_2_17_x86_64.manylinux2014_x86_64.whl.metadata (3.4 kB)\n",
            "Collecting elgamal\n",
            "  Downloading elgamal-0.0.5-py3-none-any.whl.metadata (752 bytes)\n",
            "Collecting pycryptodome\n",
            "  Downloading pycryptodome-3.21.0-cp36-abi3-manylinux_2_17_x86_64.manylinux2014_x86_64.whl.metadata (3.4 kB)\n",
            "Downloading pycryptodomex-3.21.0-cp36-abi3-manylinux_2_17_x86_64.manylinux2014_x86_64.whl (2.3 MB)\n",
            "\u001b[2K   \u001b[90m━━━━━━━━━━━━━━━━━━━━━━━━━━━━━━━━━━━━━━━━\u001b[0m \u001b[32m2.3/2.3 MB\u001b[0m \u001b[31m29.6 MB/s\u001b[0m eta \u001b[36m0:00:00\u001b[0m\n",
            "\u001b[?25hDownloading elgamal-0.0.5-py3-none-any.whl (3.3 kB)\n",
            "Downloading pycryptodome-3.21.0-cp36-abi3-manylinux_2_17_x86_64.manylinux2014_x86_64.whl (2.3 MB)\n",
            "\u001b[2K   \u001b[90m━━━━━━━━━━━━━━━━━━━━━━━━━━━━━━━━━━━━━━━━\u001b[0m \u001b[32m2.3/2.3 MB\u001b[0m \u001b[31m63.0 MB/s\u001b[0m eta \u001b[36m0:00:00\u001b[0m\n",
            "\u001b[?25hInstalling collected packages: PyCryptoDomex, pycryptodome, elgamal\n",
            "Successfully installed PyCryptoDomex-3.21.0 elgamal-0.0.5 pycryptodome-3.21.0\n"
          ]
        }
      ]
    },
    {
      "cell_type": "code",
      "source": [
        "import random\n",
        "from Cryptodome.PublicKey import RSA\n",
        "from Cryptodome.Cipher import PKCS1_OAEP\n",
        "from elgamal.elgamal import Elgamal\n",
        "\n",
        "import time\n",
        "from secrets import token_bytes\n",
        "import warnings\n"
      ],
      "metadata": {
        "id": "FgUzrBRTbQDD"
      },
      "execution_count": null,
      "outputs": []
    },
    {
      "cell_type": "code",
      "source": [
        "def modular_inverse(a, mod):\n",
        "    b0, x0, x1 = mod, 0, 1\n",
        "    while a > 1:\n",
        "        q = a // b0\n",
        "        a, b0 = b0, a % b0\n",
        "        x0, x1 = x1 - q * x0, x0\n",
        "    return x1 + mod if x1 < 0 else x1\n",
        "\n",
        "def select_prime_larger_than(value):\n",
        "    mersenne_primes = [2**x - 1 for x in [17, 19, 31, 61, 89, 107, 127, 521]]\n",
        "    for prime in mersenne_primes:\n",
        "        if prime > value:\n",
        "            return prime\n",
        "    return 2**128 + 51\n",
        "\n",
        "def split_secret(secret_bytes, required_shares, distributed_shares, prime_mod=None):\n",
        "\n",
        "    secret = int.from_bytes(secret_bytes, byteorder='big', signed=False)\n",
        "    prime_mod = prime_mod or select_prime_larger_than(secret)\n",
        "\n",
        "    coefficients = [int.from_bytes(token_bytes((prime_mod.bit_length() + 7) // 8), byteorder='big', signed=False) % prime_mod for _ in range(required_shares - 1)]\n",
        "    coefficients.append(secret)\n",
        "\n",
        "    shares = [(i, (evaluate_polynomial(i, coefficients, prime_mod)).to_bytes((prime_mod.bit_length() + 7) // 8, byteorder='big', signed=False)) for i in range(1, distributed_shares + 1)]\n",
        "    return {\"required_shares\": required_shares, \"prime_mod\": prime_mod.to_bytes((prime_mod.bit_length() + 7) // 8, byteorder='big', signed=False), \"shares\": shares}\n",
        "\n",
        "def evaluate_polynomial(x, coefficients, prime_mod):\n",
        "    y = 0\n",
        "    for coefficient in coefficients:\n",
        "        y = (y * x + coefficient) % prime_mod\n",
        "    return y\n",
        "\n",
        "def lagrange_interpolation(x, points, prime_mod):\n",
        "    y = 0\n",
        "    for i, (xi, yi) in enumerate(points):\n",
        "        numerator = yi\n",
        "        denominator = 1\n",
        "        for j, (xj, yj) in enumerate(points):\n",
        "            if j != i:\n",
        "                numerator = (numerator * (x - xj)) % prime_mod\n",
        "                denominator = (denominator * (xi - xj)) % prime_mod\n",
        "        y = (y + numerator * modular_inverse(denominator, prime_mod)) % prime_mod\n",
        "    return y\n",
        "\n",
        "def recover_secret(data):\n",
        "    shares = data['shares']\n",
        "    required_shares = data['required_shares']\n",
        "    prime_mod = int.from_bytes(data['prime_mod'], byteorder='big', signed=False)\n",
        "\n",
        "    if len(shares) < required_shares:\n",
        "        raise ValueError(\"not enough shares provided\")\n",
        "    shares = shares[:required_shares]\n",
        "\n",
        "    points = [(x, int.from_bytes(y, byteorder='big', signed=False)) for x, y in shares]\n",
        "    return (lagrange_interpolation(0, points, prime_mod)).to_bytes((prime_mod.bit_length() + 7) // 8, byteorder='big', signed=False)[1:]"
      ],
      "metadata": {
        "id": "qWUoRncMWHnH"
      },
      "execution_count": null,
      "outputs": []
    },
    {
      "cell_type": "code",
      "source": [
        "secret = b\"This is my secret\"\n",
        "required_shares = 3\n",
        "total_shares = 5\n",
        "\n",
        "split_data = split_secret(secret, required_shares, total_shares)\n",
        "split_data_rsa = split_data['shares'][:3]\n",
        "split_data_ecc = split_data['shares'][2:]\n",
        "\n",
        "print(\"Original Secret (for splitting):\", secret)"
      ],
      "metadata": {
        "colab": {
          "base_uri": "https://localhost:8080/"
        },
        "id": "WBJqQO9SXqa0",
        "outputId": "58d7db66-d55b-444d-a200-4da1bb490333"
      },
      "execution_count": null,
      "outputs": [
        {
          "output_type": "stream",
          "name": "stdout",
          "text": [
            "Original Secret (for splitting): b'This is my secret'\n"
          ]
        }
      ]
    },
    {
      "cell_type": "code",
      "source": [
        "rsa_private_key = RSA.generate(1024)\n",
        "rsa_public_key = rsa_private_key.publickey()\n",
        "rsa_cipher_encrypt = PKCS1_OAEP.new(rsa_public_key)\n",
        "rsa_cipher_decrypt = PKCS1_OAEP.new(rsa_private_key)\n",
        "\n",
        "\n",
        "rsa_encrypted_shares = []\n",
        "start_time = time.time()\n",
        "for share in split_data_rsa:\n",
        "    encrypted_share = rsa_cipher_encrypt.encrypt(share[1])\n",
        "    rsa_encrypted_shares.append((share[0], encrypted_share))\n",
        "rsa_time = time.time() - start_time\n",
        "\n",
        "\n",
        "print(\"\\nRSA Encrypted Shares:\")\n",
        "for idx, encrypted_share in rsa_encrypted_shares:\n",
        "    print(f\"Part {idx}: {encrypted_share}\")\n",
        "\n",
        "\n",
        "rsa_decrypted_shares = []\n",
        "start_time = time.time()\n",
        "for idx, encrypted_share in rsa_encrypted_shares:\n",
        "    decrypted_share = rsa_cipher_decrypt.decrypt(encrypted_share)\n",
        "    rsa_decrypted_shares.append((idx, decrypted_share))\n",
        "rsa_decrypt_time = time.time() - start_time\n",
        "\n",
        "\n",
        "print(\"\\nRSA Decrypted Shares:\")\n",
        "for idx, decrypted_share in rsa_decrypted_shares:\n",
        "    print(f\"Part {idx}: {decrypted_share}\")\n",
        "\n",
        "\n",
        "recovery_data_rsa = {\n",
        "    'required_shares': required_shares,\n",
        "    'prime_mod': split_data['prime_mod'],\n",
        "    'shares': rsa_decrypted_shares\n",
        "}\n",
        "reconstructed_secret_rsa = recover_secret(recovery_data_rsa)\n",
        "\n",
        "print(f\"\\nReconstructed Secret (RSA): {reconstructed_secret_rsa.decode('utf-8')}\")\n",
        "print(f\"\\nRSA Encryption Time: {rsa_time:.4f} seconds\")\n",
        "print(f\"RSA Decryption Time: {rsa_decrypt_time:.4f} seconds\")"
      ],
      "metadata": {
        "colab": {
          "base_uri": "https://localhost:8080/"
        },
        "id": "LF3FEwoSPzZ8",
        "outputId": "164b19a9-7ced-4555-f061-f1f5d8409979"
      },
      "execution_count": null,
      "outputs": [
        {
          "output_type": "stream",
          "name": "stdout",
          "text": [
            "\n",
            "RSA Encrypted Shares:\n",
            "Part 1: b'\\xbc\\x9f2U\\xf4\\xa1-\\x13\\xc0\\xf9\\x96X\\xe4\\x1b\\xeeby\\xa1\\x8e\\xd1.$\\xa9_\\x92\\x99\\xf5\\xe6p-\\xf4\\x11\\\\6\\x1c\\x94\\\\\\x8c\\x9c]\\x89\\x94-\\xa9\\x82\\xd2<\\xfb\\xb2 \\x94l&\\x85\\x8cx\\xce\\x80-\\x9b.\\x05\\x97\\x18\\x1c\\x8a\\xe0\\x06\\x0cz\\xb9\\x19\\xf2*\\x9e\\x03\\xf2c\\x9a\\xd6&\\x120\\xc7UO\\x89@s\\x1e\\\\h\\xf1}\\xae\\xc4R\\xab\\x85\\x7fW\\xa4o7\\xbcD\\xdb\\xb7\\xf0U\\xd6\\xa9\\x15qu\\x8f\\xd3\\xc2\\x0c\\xd2\\x00\\xac\\x82\\x8dU\\x85]>'\n",
            "Part 2: b\"\\x00%\\xfdI\\xca;\\xe8\\xe7\\xe0\\xb0(\\xd0\\xd7?9]\\x8auhqm\\xf9\\x94\\xab,\\xa2my\\xdb\\xba\\xaa\\xa2\\xfbT\\xa5\\x97\\xa11\\xb5L}\\xb7\\xd0\\x10@v\\x07\\xaeLt\\xc0W\\x9bRmB\\xac$\\xaf\\x92\\xf0e\\xe8\\xa0*{\\x0fA\\x13j\\x85\\x81\\xda\\x0b\\x0b\\x12|\\n\\x85t\\xd2\\xb3\\x98KLo\\x82\\xf3\\x1a\\x14\\xf2\\x8cN\\xed\\x80F\\xc7)L\\x84\\x0f\\x80\\tZ\\xad\\x02\\xdc\\xdey1\\xf8#\\xcb\\x16\\xfbI\\xbf\\xc5\\xe3s[L'\\xff\\xd4?\\x12E\"\n",
            "Part 3: b'\\xc3\\x87[\\xcc\\xeb\\xe5H\\x9e\\xa2\\xcdv\\x8e\\xd1\\xe2\\x8a\\xfag\\xc8\\x86g>b\\ry\\xa1\\xe6\\xe6\\xfd\\xd7\\xf8H\\x13A\\xed\\xb9\\xb8Kx\\xbc\\xf9\\xb1\\x7f-\\xaa\\xd8\\x9dr\\xa4KX\\x90c\\xa7~D\\xb7\\xcb\\xee\\x7f\\x81\\xc7\\xe9\\x86\\xd5=\\xe3F\\xfa\\xfe\\xd2\\xb7Mq\\x95\\xd2e\\xab\\xb8@m\\xfdT\\xc4\"\\x9d\\x9bG\\xa0`bs\\xd0\\xbc\\x1bw\\xe8m\\xdf\\xca\\xbb\\x8c\\x1b\\xee\\xfd\\xa8\\x0fU\\x02\\x14\\xdb\\x820\\xd2\\xa0\\xdcM2\\xcf\\xa3\\x080\\x92\\xe2\\xd9YK\\xae1'\n",
            "\n",
            "RSA Decrypted Shares:\n",
            "Part 1: b'\\x00p\\xe9\\xe4\\x00\\xab\\xce\\xab-\\xef\\x84\\rh\\xdbv>\\x9f\\xeb\\x1aU\\xba\\xa8\\xd0g\\t\\xb5\\x97Q\\xadf\\xe1\\xe5S\\xa3\\x11\\xa9Do\\x18\\x0bL\\x86\\xce7T\\xa1~\\xbe\\x95q9py\\xe4\\x94\\x08\\x92\\x9a\\xadw\\xa3\\xb3\\xf3\\x88I\\x8c'\n",
            "Part 2: b'\\x005_P\\x8f\\xc2\\x16z\\x19\\xc2{k\\xb0:\\xee\\xa5\\xa5\\x81j\\xe14\\xcf\\xf6(s\\xf4B\\xa5\\x18\\x94(\\xec\\x95$\\xbd\\xb54\\x8c\\x06\\xf0;r\\xd6\\t\\xef\\x82f\\x03)ae\\xd3`\\x81\\x98\\x11j\\xe9\\x1d\\xf6[\\x86\\x17Cp\\xf2'\n",
            "Part 3: b'\\x01M`E\\xadB\\xd7l\\xc3x\\xe6\\x1a\\xd6\\x1ei5\\x10\\xc2\\xf1\\xa2nuqD>\\xbc\\x01\\xfaA\\x87\\xd5\\x15\\xc4\\x85\\x04#\\xd0V\\xcc\\xae\\xcc\\xc4\\x17w\\xd0\\xa2\\xb5\\xcd\\xbc$\\xed\\x92&\\xf7u\\x8d\\xa9X\\xca\\x9c\\x9a\\xdb\\xce\\xa3\\xdb\\xa5'\n",
            "\n",
            "Reconstructed Secret (RSA): \u0000\u0000\u0000\u0000\u0000\u0000\u0000\u0000\u0000\u0000\u0000\u0000\u0000\u0000\u0000\u0000\u0000\u0000\u0000\u0000\u0000\u0000\u0000\u0000\u0000\u0000\u0000\u0000\u0000\u0000\u0000\u0000\u0000\u0000\u0000\u0000\u0000\u0000\u0000\u0000\u0000\u0000\u0000\u0000\u0000\u0000\u0000\u0000This is my secret\n",
            "\n",
            "RSA Encryption Time: 0.0091 seconds\n",
            "RSA Decryption Time: 0.0053 seconds\n"
          ]
        }
      ]
    },
    {
      "cell_type": "code",
      "source": [
        "elgamal_pb, elgamal_pv = Elgamal.newkeys(128)\n",
        "\n",
        "elgamal_encrypted_shares = []\n",
        "start_time = time.time()\n",
        "for share in split_data_ecc:\n",
        "    encrypted_share = Elgamal.encrypt(share[1], elgamal_pb)\n",
        "    elgamal_encrypted_shares.append((share[0], encrypted_share))\n",
        "elgamal_time = time.time() - start_time\n",
        "\n",
        "print(\"\\nElGamal Encrypted Shares:\")\n",
        "for idx, encrypted_share in elgamal_encrypted_shares:\n",
        "    print(f\"Part {idx}: {encrypted_share}\")\n",
        "\n",
        "\n",
        "elgamal_decrypted_shares = []\n",
        "start_time = time.time()\n",
        "for idx, encrypted_share in elgamal_encrypted_shares:\n",
        "    decrypted_share = Elgamal.decrypt(encrypted_share, elgamal_pv)\n",
        "    decrypted_share_bytes = bytes(decrypted_share)\n",
        "    elgamal_decrypted_shares.append((idx, decrypted_share_bytes))\n",
        "elgamal_decrypt_time = time.time() - start_time\n",
        "\n",
        "print(\"\\nElGamal Decrypted Shares:\")\n",
        "for idx, decrypted_share in elgamal_decrypted_shares:\n",
        "    print(f\"Part {idx}: {decrypted_share}\")\n",
        "\n",
        "\n",
        "\n",
        "recovery_data_ecc = {\n",
        "    'required_shares': required_shares,\n",
        "    'prime_mod': split_data['prime_mod'],\n",
        "    'shares': elgamal_decrypted_shares\n",
        "}\n",
        "reconstructed_secret_ecc = recover_secret(recovery_data_ecc)\n",
        "\n",
        "print(f\"Reconstructed Secret (ElGamal): {reconstructed_secret_ecc.decode('utf-8')}\")\n",
        "print(f\"ElGamal Encryption Time: {elgamal_time:.4f} seconds\")\n",
        "print(f\"ElGamal Decryption Time: {elgamal_decrypt_time:.4f} seconds\")\n"
      ],
      "metadata": {
        "colab": {
          "base_uri": "https://localhost:8080/"
        },
        "id": "xnHX0jLSOZu3",
        "outputId": "6285cd3a-88f1-405b-997b-4cac395ae55c"
      },
      "execution_count": null,
      "outputs": [
        {
          "output_type": "stream",
          "name": "stdout",
          "text": [
            "\n",
            "ElGamal Encrypted Shares:\n",
            "Part 3: CipherText(13682021647660526334453413078523400064688192645543360219462946423300198264687221669969730621769869999677609783604327004983832916497657522965940585012416878613914120856922588509006734062112033499640372919908166399954314489968689534400953427799890447936320776354170449056181236999546973550040450040249493677778675020013682267899986375279646508499356336991884253494352539112885503782548103085301417418603365426374596331659494437890102694786269141485713832612261791585032287417822725359368575726412642218067846854285593933833927420716877598385230608979043707176131936210443889725123306273641760728710131763530591281019740, 4851966303923705950370813462431626395059713441761296014964656055019291648045001935744622946698019208859004616718541269510517310869056296523110549734081450060833924270445314304479130132529774776508175849746109588535093809890054488522586318376185445623483940101408239728729637977759985102625162526234503876099233290168092806343093060102486334346379812245878370410066671106700118762901098874370247706302639431752922430026098695578556302520455097094953371717262589211042083812098175116522714298790696010784704111354494965589427249297397715574738631379924403239802970629053513051213021678585709213504150259556813695283776)\n",
            "Part 4: CipherText(88294793586569314484601861443527364181541006705736229897223146667118777856364470822962599103969374486898284636598267739838737028934018425252293536721217543545064002078423467494278167906663745863612172302036470349881230388958546959578318671353921441883388402685400158419247809893741059510529714846594651287091956996728021913722081161877396744857027606819542701478486827037762581082091454458051477913370186683425598850643842137239464161550702843332062217322018197471807220294461029779245080071762140128024881310015081457754839898983654022849428298178300984075240263411365857824246368349149445332614320489289637846052689024500171594802831095479751664528185108286826093596273032287873938341740463604520718044094823135499403507737767114594827766852761152050868276402491436146332588817368988376290085777939022592163923555823154682639175727987608743608652821083839544254698414116417980563394233831662914547640792405814869967761131416794462564581090303156392932776353886968600686127297288143501866731497731358076975875553060438834274840270076944333954293963488470840047383549112094968682755981770633706146873685417423000676883179905706134215876125079847770982509673738618903432898724412766871754296007940105513228473063794409540066089112769, 967620476413162984758534919943015633645617903796246439217406580352452814483586905528563496584599953422517038518269734728769309044281245273272340784792473429764927749661774433355606200391234926896797273884740020379068043269168667587109433432799814385697392251082861240155769422379099829936630613681959655857600104113832847724029373444549390647232254583800245810408654539589106493046234418666633329280105735108773031239808774761503303714794784807189992717718939929767429906806161824123808117644874901114249084243527652640019354472492059646434431875844998551095699795779569739790089895546328966263927516156592597382695)\n",
            "Part 5: CipherText(547362441729030092042549691043761592684232823406863581764792333696709328591898483057738442914907769261825918115339451197237088703569576832375574299335512003044910460529355220276195862522914040282881283232277444798147145216849044586247466221383579794546464371978777860631869975558362532316391294466264125936445421826710660106797164461556994982387029254812696629071204415830419268780966145964966649323232728084963737456177963476647980994137716208722918694333760221962449997893538636702269054254511148511543204858407148263480945495533305100303167301269683227683887480060924444305372727618432840600804319354064184150478160121982406483900097692613423983335563064387053191919291177093415208409451966895689991431579723923089101518407995825108318148613769459777602481058644950579684654432636379641585865982702571106620523583640886380239808508023875313618236099105013108656748850054902043770206744975834856646450444189920959664832821936914826747553715645181487103865703283462501448121270736586843694375764519716363711127034753104381723147551798284461856219764266935057324271622221513287162808641154016316669276316706710780337820376191048775713638919076758027431252919996487600837446050255536067896561471634824703413477326880200225141283269225, 6721326799571276517120190184213879028142780471257604285134560858957757421444486903537452561047853770851667676404485930122285318941871528779054329429068703123453061982535614315316104681060052379327225280940124662969390817075514882148680431770782864587160619058065952554533011340625894508711721628170534696324975118974470862422068122517603227763466894361865824417623386364481577253625781599817351004767562618849698836100195225451064200044480233695702788005993959332386686326337097350854378158710767169181463389255179030541982542956154360478850054152456917856648938363724280448663978893178403529209755989538298741846043)\n",
            "\n",
            "ElGamal Decrypted Shares:\n",
            "Part 3: b'\\x01M`E\\xadB\\xd7l\\xc3x\\xe6\\x1a\\xd6\\x1ei5\\x10\\xc2\\xf1\\xa2nuqD>\\xbc\\x01\\xfaA\\x87\\xd5\\x15\\xc4\\x85\\x04#\\xd0V\\xcc\\xae\\xcc\\xc4\\x17w\\xd0\\xa2\\xb5\\xcd\\xbc$\\xed\\x92&\\xf7u\\x8d\\xa9X\\xca\\x9c\\x9a\\xdb\\xce\\xa3\\xdb\\xa5'\n",
            "Part 4: b'\\x01\\xb8\\xec\\xc3Y.\\x11\\x83+\\x12\\xc4\\x1a\\xda\\x85\\xe5\\xec\\xe1\\xaf\\xae\\x99g\\x99A\\xbaj\\x0c\\xd5Q(A\\xe6`\\xe1\\xc3\\xe4\\xf5\\x17\\xcfiG\\x00z\\x92\\x80\\xf8\\x02n\\x1eM\\xbb\\xd0\\xac\\xcdF,}M\\xe9\\xb3ja\\xb5\\x19\\xa9\\x89\\xa6'\n",
            "Part 5: b'\\x01x\\x04\\xc9\\x93\\x83\\xc4\\xbdP\\x90\\x15k\\xbdqd\\xcd\\x18G\\xa1\\xc6 ;g\\x8a\\xf5\\xe6\\xbc\\xa9\\xcc\\xc2\\\\\\xcd\\xec\\xe1`)\\n\\xf5\\xdc\\xb8\\xd6\\x96G%e\\xa1\\x8e\\xf4\\xde&\\x0f#Sm\\xbc\\xe0X\\x9b\\xd8_\\xb0\\x11\\xf8Tz\\xf5'\n",
            "Reconstructed Secret (ElGamal): \u0000\u0000\u0000\u0000\u0000\u0000\u0000\u0000\u0000\u0000\u0000\u0000\u0000\u0000\u0000\u0000\u0000\u0000\u0000\u0000\u0000\u0000\u0000\u0000\u0000\u0000\u0000\u0000\u0000\u0000\u0000\u0000\u0000\u0000\u0000\u0000\u0000\u0000\u0000\u0000\u0000\u0000\u0000\u0000\u0000\u0000\u0000\u0000This is my secret\n",
            "ElGamal Encryption Time: 0.3820 seconds\n",
            "ElGamal Decryption Time: 0.3194 seconds\n"
          ]
        }
      ]
    }
  ]
}